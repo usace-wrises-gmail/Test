{
  "nbformat": 4,
  "nbformat_minor": 0,
  "metadata": {
    "colab": {
      "provenance": [],
      "authorship_tag": "ABX9TyNgaKLpsIjiLUr34de1wei1",
      "include_colab_link": true
    },
    "kernelspec": {
      "name": "ir",
      "display_name": "R"
    },
    "language_info": {
      "name": "R"
    }
  },
  "cells": [
    {
      "cell_type": "markdown",
      "metadata": {
        "id": "view-in-github",
        "colab_type": "text"
      },
      "source": [
        "<a href=\"https://colab.research.google.com/github/usace-wrises-gmail/Test/blob/main/HYDROCAL_Google_Collab_Example.ipynb\" target=\"_parent\"><img src=\"https://colab.research.google.com/assets/colab-badge.svg\" alt=\"Open In Colab\"/></a>"
      ]
    },
    {
      "cell_type": "code",
      "execution_count": null,
      "metadata": {
        "colab": {
          "base_uri": "https://localhost:8080/"
        },
        "id": "DUOqGzFZQxHm",
        "outputId": "88936acc-cbdc-46ae-c56a-f32cc2b51ab8"
      },
      "outputs": [
        {
          "output_type": "stream",
          "name": "stderr",
          "text": [
            "Installing package into ‘/usr/local/lib/R/site-library’\n",
            "(as ‘lib’ is unspecified)\n",
            "\n"
          ]
        }
      ],
      "source": [
        "install.packages(\"HYDROCAL\")\n",
        "library(\"HYDROCAL\")"
      ]
    },
    {
      "cell_type": "code",
      "source": [
        "mann <- 0.035\n",
        "R <- 10\n",
        "mannings_to_darcy(mann,R,restrict=TRUE)"
      ],
      "metadata": {
        "colab": {
          "base_uri": "https://localhost:8080/",
          "height": 34
        },
        "id": "8c1n30pzQ96F",
        "outputId": "ebad6644-ffe5-4bf8-91c0-4ce33c17b1d0"
      },
      "execution_count": null,
      "outputs": [
        {
          "output_type": "display_data",
          "data": {
            "text/html": [
              "0.0450781824342806"
            ],
            "text/markdown": "0.0450781824342806",
            "text/latex": "0.0450781824342806",
            "text/plain": [
              "[1] 0.04507818"
            ]
          },
          "metadata": {}
        }
      ]
    },
    {
      "cell_type": "code",
      "source": [
        "install.packages(\"HYDROCAL\")\n",
        "library(\"HYDROCAL\")\n",
        "mann <- 0.035\n",
        "R <- 10\n",
        "mannings_to_darcy(mann,R,restrict=TRUE)\n",
        "# @title Example usage with Forms. { display-mode: \"form\", run: \"auto\" }\n",
        "mann_slider = 0.25 # @param {type:\"slider\", min:0.01, max:0.5, step:0.01}\n",
        "R_input = 5 # @param {type:\"number\"}\n",
        "mannings_to_darcy(mann_slider,R_input,restrict=TRUE)"
      ],
      "metadata": {
        "colab": {
          "base_uri": "https://localhost:8080/",
          "height": 34
        },
        "id": "pTC2-VnkT5MA",
        "outputId": "058c97b2-93a5-484e-ac1c-74fecd077682"
      },
      "execution_count": null,
      "outputs": [
        {
          "output_type": "display_data",
          "data": {
            "text/html": [
              "2.89770157856895"
            ],
            "text/markdown": "2.89770157856895",
            "text/latex": "2.89770157856895",
            "text/plain": [
              "[1] 2.897702"
            ]
          },
          "metadata": {}
        }
      ]
    }
  ]
}