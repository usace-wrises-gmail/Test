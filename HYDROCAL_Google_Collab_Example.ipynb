{
  "nbformat": 4,
  "nbformat_minor": 0,
  "metadata": {
    "colab": {
      "provenance": [],
      "authorship_tag": "ABX9TyPlzlx84t5/0uKMHVownFEt",
      "include_colab_link": true
    },
    "kernelspec": {
      "name": "ir",
      "display_name": "R"
    },
    "language_info": {
      "name": "R"
    }
  },
  "cells": [
    {
      "cell_type": "markdown",
      "metadata": {
        "id": "view-in-github",
        "colab_type": "text"
      },
      "source": [
        "<a href=\"https://colab.research.google.com/github/usace-wrises-gmail/Test/blob/main/HYDROCAL_Google_Collab_Example.ipynb\" target=\"_parent\"><img src=\"https://colab.research.google.com/assets/colab-badge.svg\" alt=\"Open In Colab\"/></a>"
      ]
    },
    {
      "cell_type": "code",
      "source": [
        "# @title HYDROCAL Example Usage. { display-mode: \"form\", run: \"auto\" }\n",
        "install.packages(\"HYDROCAL\")\n",
        "library(\"HYDROCAL\")\n",
        "\n",
        "# mann <- 0.035\n",
        "# R <- 10\n",
        "# mannings_to_darcy(mann,R,restrict=TRUE)\n",
        "\n",
        "mann_slider = 0.01 # @param {type:\"slider\", min:0.01, max:0.5, step:0.01}\n",
        "R_input = 5 # @param {type:\"number\"}\n",
        "mannings_to_darcy(mann_slider,R_input,restrict=TRUE)"
      ],
      "metadata": {
        "id": "pTC2-VnkT5MA"
      },
      "execution_count": null,
      "outputs": []
    }
  ]
}