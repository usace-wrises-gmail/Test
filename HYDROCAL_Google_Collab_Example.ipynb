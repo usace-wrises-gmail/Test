{
  "nbformat": 4,
  "nbformat_minor": 0,
  "metadata": {
    "colab": {
      "provenance": [],
      "authorship_tag": "ABX9TyP7hT0u32Yc1XdvM+YDt43f",
      "include_colab_link": true
    },
    "kernelspec": {
      "name": "ir",
      "display_name": "R"
    },
    "language_info": {
      "name": "R"
    }
  },
  "cells": [
    {
      "cell_type": "markdown",
      "metadata": {
        "id": "view-in-github",
        "colab_type": "text"
      },
      "source": [
        "<a href=\"https://colab.research.google.com/github/usace-wrises-gmail/Test/blob/main/HYDROCAL_Google_Collab_Example.ipynb\" target=\"_parent\"><img src=\"https://colab.research.google.com/assets/colab-badge.svg\" alt=\"Open In Colab\"/></a>"
      ]
    },
    {
      "cell_type": "code",
      "source": [
        "# @title Run to load HYDROCAL { display-mode: \"form\", run: \"auto\" }\n",
        "install.packages(\"HYDROCAL\")\n",
        "library(\"HYDROCAL\")\n",
        "# mann <- 0.035\n",
        "# R <- 10\n",
        "# mannings_to_darcy(mann,R,restrict=TRUE)"
      ],
      "metadata": {
        "id": "8dTY3v1KlxED",
        "outputId": "5b0bf898-a82a-4018-a36e-0b6db44952d0",
        "colab": {
          "base_uri": "https://localhost:8080/"
        }
      },
      "execution_count": 1,
      "outputs": [
        {
          "output_type": "stream",
          "name": "stderr",
          "text": [
            "Installing package into ‘/usr/local/lib/R/site-library’\n",
            "(as ‘lib’ is unspecified)\n",
            "\n"
          ]
        }
      ]
    },
    {
      "cell_type": "code",
      "source": [
        "# @title HYDROCAL Example Usage { display-mode: \"form\", run: \"auto\" }\n",
        "mann_slider = 0.08 # @param {type:\"slider\", min:0.01, max:0.5, step:0.01}\n",
        "R_input = 5 # @param {type:\"number\"}\n",
        "mannings_to_darcy(mann_slider,R_input,restrict=TRUE)"
      ],
      "metadata": {
        "colab": {
          "base_uri": "https://localhost:8080/",
          "height": 34
        },
        "id": "pTC2-VnkT5MA",
        "outputId": "fbc6cd1e-fdd1-4c14-e181-b7fd307bdfbc"
      },
      "execution_count": 3,
      "outputs": [
        {
          "output_type": "display_data",
          "data": {
            "text/html": [
              "0.296724641645461"
            ],
            "text/markdown": "0.296724641645461",
            "text/latex": "0.296724641645461",
            "text/plain": [
              "[1] 0.2967246"
            ]
          },
          "metadata": {}
        }
      ]
    }
  ]
}